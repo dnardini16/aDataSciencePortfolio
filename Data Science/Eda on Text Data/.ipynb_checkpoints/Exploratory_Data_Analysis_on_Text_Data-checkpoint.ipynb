{
 "cells": [
  {
   "cell_type": "markdown",
   "metadata": {
    "id": "NqkKfbrVZiL5"
   },
   "source": [
    "# Exploratory Data Analysis on Text Data\n",
    "\n",
    "In this notebook I will do an Exploratory Data Analysis on Tripadvisor Hotel Reviews. You can find the data [here](https://www.kaggle.com/datasets/andrewmvd/trip-advisor-hotel-reviews). "
   ]
  },
  {
   "cell_type": "markdown",
   "metadata": {
    "id": "IYvo1rl4qc8w"
   },
   "source": [
    "# Import"
   ]
  },
  {
   "cell_type": "code",
   "execution_count": 1,
   "metadata": {
    "id": "M1CRCtXjqee5"
   },
   "outputs": [
    {
     "ename": "ModuleNotFoundError",
     "evalue": "No module named 'pandas'",
     "output_type": "error",
     "traceback": [
      "\u001b[1;31m---------------------------------------------------------------------------\u001b[0m",
      "\u001b[1;31mModuleNotFoundError\u001b[0m                       Traceback (most recent call last)",
      "Cell \u001b[1;32mIn [1], line 2\u001b[0m\n\u001b[0;32m      1\u001b[0m \u001b[38;5;66;03m## necessary import\u001b[39;00m\n\u001b[1;32m----> 2\u001b[0m \u001b[38;5;28;01mimport\u001b[39;00m \u001b[38;5;21;01mpandas\u001b[39;00m \u001b[38;5;28;01mas\u001b[39;00m \u001b[38;5;21;01mpd\u001b[39;00m\n\u001b[0;32m      3\u001b[0m \u001b[38;5;28;01mimport\u001b[39;00m \u001b[38;5;21;01mmatplotlib\u001b[39;00m\u001b[38;5;21;01m.\u001b[39;00m\u001b[38;5;21;01mpyplot\u001b[39;00m \u001b[38;5;28;01mas\u001b[39;00m \u001b[38;5;21;01mplt\u001b[39;00m\n\u001b[0;32m      4\u001b[0m \u001b[38;5;28;01mimport\u001b[39;00m \u001b[38;5;21;01mseaborn\u001b[39;00m \u001b[38;5;28;01mas\u001b[39;00m \u001b[38;5;21;01msns\u001b[39;00m\n",
      "\u001b[1;31mModuleNotFoundError\u001b[0m: No module named 'pandas'"
     ]
    }
   ],
   "source": [
    "## necessary import\n",
    "import pandas as pd\n",
    "import matplotlib.pyplot as plt\n",
    "import seaborn as sns\n",
    "import re\n",
    "import nltk\n",
    "from nltk.corpus import stopwords\n",
    "from collections import Counter\n",
    "from sklearn.feature_extraction.text import CountVectorizer"
   ]
  },
  {
   "cell_type": "markdown",
   "metadata": {
    "id": "rPL4-o7hsis3"
   },
   "source": [
    "# Load data and first overview"
   ]
  },
  {
   "cell_type": "code",
   "execution_count": 2,
   "metadata": {
    "colab": {
     "base_uri": "https://localhost:8080/",
     "height": 363
    },
    "id": "H-hvb40Yqhow",
    "outputId": "13de8a19-c6b7-4d4f-897a-bfdcd92bd8dd"
   },
   "outputs": [
    {
     "data": {
      "text/html": [
       "\n",
       "  <div id=\"df-f17aec92-0a3b-49e2-8387-3560fef1e2ef\">\n",
       "    <div class=\"colab-df-container\">\n",
       "      <div>\n",
       "<style scoped>\n",
       "    .dataframe tbody tr th:only-of-type {\n",
       "        vertical-align: middle;\n",
       "    }\n",
       "\n",
       "    .dataframe tbody tr th {\n",
       "        vertical-align: top;\n",
       "    }\n",
       "\n",
       "    .dataframe thead th {\n",
       "        text-align: right;\n",
       "    }\n",
       "</style>\n",
       "<table border=\"1\" class=\"dataframe\">\n",
       "  <thead>\n",
       "    <tr style=\"text-align: right;\">\n",
       "      <th></th>\n",
       "      <th>Review</th>\n",
       "      <th>Rating</th>\n",
       "    </tr>\n",
       "  </thead>\n",
       "  <tbody>\n",
       "    <tr>\n",
       "      <th>0</th>\n",
       "      <td>nice hotel expensive parking got good deal sta...</td>\n",
       "      <td>4</td>\n",
       "    </tr>\n",
       "    <tr>\n",
       "      <th>1</th>\n",
       "      <td>ok nothing special charge diamond member hilto...</td>\n",
       "      <td>2</td>\n",
       "    </tr>\n",
       "    <tr>\n",
       "      <th>2</th>\n",
       "      <td>nice rooms not 4* experience hotel monaco seat...</td>\n",
       "      <td>3</td>\n",
       "    </tr>\n",
       "    <tr>\n",
       "      <th>3</th>\n",
       "      <td>unique, great stay, wonderful time hotel monac...</td>\n",
       "      <td>5</td>\n",
       "    </tr>\n",
       "    <tr>\n",
       "      <th>4</th>\n",
       "      <td>great stay great stay, went seahawk game aweso...</td>\n",
       "      <td>5</td>\n",
       "    </tr>\n",
       "    <tr>\n",
       "      <th>5</th>\n",
       "      <td>love monaco staff husband stayed hotel crazy w...</td>\n",
       "      <td>5</td>\n",
       "    </tr>\n",
       "    <tr>\n",
       "      <th>6</th>\n",
       "      <td>cozy stay rainy city, husband spent 7 nights m...</td>\n",
       "      <td>5</td>\n",
       "    </tr>\n",
       "    <tr>\n",
       "      <th>7</th>\n",
       "      <td>excellent staff, housekeeping quality hotel ch...</td>\n",
       "      <td>4</td>\n",
       "    </tr>\n",
       "    <tr>\n",
       "      <th>8</th>\n",
       "      <td>hotel stayed hotel monaco cruise, rooms genero...</td>\n",
       "      <td>5</td>\n",
       "    </tr>\n",
       "    <tr>\n",
       "      <th>9</th>\n",
       "      <td>excellent stayed hotel monaco past w/e delight...</td>\n",
       "      <td>5</td>\n",
       "    </tr>\n",
       "  </tbody>\n",
       "</table>\n",
       "</div>\n",
       "      <button class=\"colab-df-convert\" onclick=\"convertToInteractive('df-f17aec92-0a3b-49e2-8387-3560fef1e2ef')\"\n",
       "              title=\"Convert this dataframe to an interactive table.\"\n",
       "              style=\"display:none;\">\n",
       "        \n",
       "  <svg xmlns=\"http://www.w3.org/2000/svg\" height=\"24px\"viewBox=\"0 0 24 24\"\n",
       "       width=\"24px\">\n",
       "    <path d=\"M0 0h24v24H0V0z\" fill=\"none\"/>\n",
       "    <path d=\"M18.56 5.44l.94 2.06.94-2.06 2.06-.94-2.06-.94-.94-2.06-.94 2.06-2.06.94zm-11 1L8.5 8.5l.94-2.06 2.06-.94-2.06-.94L8.5 2.5l-.94 2.06-2.06.94zm10 10l.94 2.06.94-2.06 2.06-.94-2.06-.94-.94-2.06-.94 2.06-2.06.94z\"/><path d=\"M17.41 7.96l-1.37-1.37c-.4-.4-.92-.59-1.43-.59-.52 0-1.04.2-1.43.59L10.3 9.45l-7.72 7.72c-.78.78-.78 2.05 0 2.83L4 21.41c.39.39.9.59 1.41.59.51 0 1.02-.2 1.41-.59l7.78-7.78 2.81-2.81c.8-.78.8-2.07 0-2.86zM5.41 20L4 18.59l7.72-7.72 1.47 1.35L5.41 20z\"/>\n",
       "  </svg>\n",
       "      </button>\n",
       "      \n",
       "  <style>\n",
       "    .colab-df-container {\n",
       "      display:flex;\n",
       "      flex-wrap:wrap;\n",
       "      gap: 12px;\n",
       "    }\n",
       "\n",
       "    .colab-df-convert {\n",
       "      background-color: #E8F0FE;\n",
       "      border: none;\n",
       "      border-radius: 50%;\n",
       "      cursor: pointer;\n",
       "      display: none;\n",
       "      fill: #1967D2;\n",
       "      height: 32px;\n",
       "      padding: 0 0 0 0;\n",
       "      width: 32px;\n",
       "    }\n",
       "\n",
       "    .colab-df-convert:hover {\n",
       "      background-color: #E2EBFA;\n",
       "      box-shadow: 0px 1px 2px rgba(60, 64, 67, 0.3), 0px 1px 3px 1px rgba(60, 64, 67, 0.15);\n",
       "      fill: #174EA6;\n",
       "    }\n",
       "\n",
       "    [theme=dark] .colab-df-convert {\n",
       "      background-color: #3B4455;\n",
       "      fill: #D2E3FC;\n",
       "    }\n",
       "\n",
       "    [theme=dark] .colab-df-convert:hover {\n",
       "      background-color: #434B5C;\n",
       "      box-shadow: 0px 1px 3px 1px rgba(0, 0, 0, 0.15);\n",
       "      filter: drop-shadow(0px 1px 2px rgba(0, 0, 0, 0.3));\n",
       "      fill: #FFFFFF;\n",
       "    }\n",
       "  </style>\n",
       "\n",
       "      <script>\n",
       "        const buttonEl =\n",
       "          document.querySelector('#df-f17aec92-0a3b-49e2-8387-3560fef1e2ef button.colab-df-convert');\n",
       "        buttonEl.style.display =\n",
       "          google.colab.kernel.accessAllowed ? 'block' : 'none';\n",
       "\n",
       "        async function convertToInteractive(key) {\n",
       "          const element = document.querySelector('#df-f17aec92-0a3b-49e2-8387-3560fef1e2ef');\n",
       "          const dataTable =\n",
       "            await google.colab.kernel.invokeFunction('convertToInteractive',\n",
       "                                                     [key], {});\n",
       "          if (!dataTable) return;\n",
       "\n",
       "          const docLinkHtml = 'Like what you see? Visit the ' +\n",
       "            '<a target=\"_blank\" href=https://colab.research.google.com/notebooks/data_table.ipynb>data table notebook</a>'\n",
       "            + ' to learn more about interactive tables.';\n",
       "          element.innerHTML = '';\n",
       "          dataTable['output_type'] = 'display_data';\n",
       "          await google.colab.output.renderOutput(dataTable, element);\n",
       "          const docLink = document.createElement('div');\n",
       "          docLink.innerHTML = docLinkHtml;\n",
       "          element.appendChild(docLink);\n",
       "        }\n",
       "      </script>\n",
       "    </div>\n",
       "  </div>\n",
       "  "
      ],
      "text/plain": [
       "                                              Review  Rating\n",
       "0  nice hotel expensive parking got good deal sta...       4\n",
       "1  ok nothing special charge diamond member hilto...       2\n",
       "2  nice rooms not 4* experience hotel monaco seat...       3\n",
       "3  unique, great stay, wonderful time hotel monac...       5\n",
       "4  great stay great stay, went seahawk game aweso...       5\n",
       "5  love monaco staff husband stayed hotel crazy w...       5\n",
       "6  cozy stay rainy city, husband spent 7 nights m...       5\n",
       "7  excellent staff, housekeeping quality hotel ch...       4\n",
       "8  hotel stayed hotel monaco cruise, rooms genero...       5\n",
       "9  excellent stayed hotel monaco past w/e delight...       5"
      ]
     },
     "execution_count": 2,
     "metadata": {},
     "output_type": "execute_result"
    }
   ],
   "source": [
    "## load data and first 10 rows\n",
    "data = pd.read_csv(\"reviews.csv\")\n",
    "data.head(10)"
   ]
  },
  {
   "cell_type": "code",
   "execution_count": 3,
   "metadata": {
    "colab": {
     "base_uri": "https://localhost:8080/"
    },
    "id": "3Z3cqogyskSF",
    "outputId": "dd856cc3-0207-4118-803a-6fca84b98fb8"
   },
   "outputs": [
    {
     "name": "stdout",
     "output_type": "stream",
     "text": [
      "Shape of data: 20491 rows and 2 columns\n"
     ]
    }
   ],
   "source": [
    "## shape of data\n",
    "rows,cols = data.shape[0],data.shape[1]\n",
    "print(f\"Shape of data: {rows} rows and {cols} columns\")"
   ]
  },
  {
   "cell_type": "code",
   "execution_count": 4,
   "metadata": {
    "colab": {
     "base_uri": "https://localhost:8080/"
    },
    "id": "15nHxacWs-Z3",
    "outputId": "0c27cb53-9966-4d1c-cbd4-1ece3dfb2478"
   },
   "outputs": [
    {
     "name": "stdout",
     "output_type": "stream",
     "text": [
      "<class 'pandas.core.frame.DataFrame'>\n",
      "RangeIndex: 20491 entries, 0 to 20490\n",
      "Data columns (total 2 columns):\n",
      " #   Column  Non-Null Count  Dtype \n",
      "---  ------  --------------  ----- \n",
      " 0   Review  20491 non-null  object\n",
      " 1   Rating  20491 non-null  int64 \n",
      "dtypes: int64(1), object(1)\n",
      "memory usage: 320.3+ KB\n"
     ]
    }
   ],
   "source": [
    "## info\n",
    "data.info()"
   ]
  },
  {
   "cell_type": "code",
   "execution_count": 5,
   "metadata": {
    "colab": {
     "base_uri": "https://localhost:8080/"
    },
    "id": "YzloAHe5tFIn",
    "outputId": "7e36fbd1-0143-406f-f974-b13feb4b0412"
   },
   "outputs": [
    {
     "data": {
      "text/plain": [
       "5    9054\n",
       "4    6039\n",
       "3    2184\n",
       "2    1793\n",
       "1    1421\n",
       "Name: Rating, dtype: int64"
      ]
     },
     "execution_count": 5,
     "metadata": {},
     "output_type": "execute_result"
    }
   ],
   "source": [
    "## rating values\n",
    "data['Rating'].value_counts()"
   ]
  },
  {
   "cell_type": "code",
   "execution_count": 6,
   "metadata": {
    "colab": {
     "base_uri": "https://localhost:8080/"
    },
    "id": "zD1bMkgFtN7x",
    "outputId": "965f1475-b569-438e-d0fb-4b19e7d1ec7b"
   },
   "outputs": [
    {
     "data": {
      "text/plain": [
       "Review    0\n",
       "Rating    0\n",
       "dtype: int64"
      ]
     },
     "execution_count": 6,
     "metadata": {},
     "output_type": "execute_result"
    }
   ],
   "source": [
    "## check missing values\n",
    "data.isnull().sum()"
   ]
  },
  {
   "cell_type": "markdown",
   "metadata": {
    "id": "wI2Pmaaout-M"
   },
   "source": [
    "# Preprocessing\n",
    "Create sentiment target variable.\n",
    "If rating is 4 or 5, sentiment will be POSITIVE. If rating is 1 or 2, sentiment will be NEGATIVE. Otherwise, sentiment will be NEUTRAL."
   ]
  },
  {
   "cell_type": "code",
   "execution_count": 7,
   "metadata": {
    "id": "VXnvokQUtdEq"
   },
   "outputs": [],
   "source": [
    "def create_sentiment(rating):\n",
    "  if rating >= 4:\n",
    "    return \"positive\"\n",
    "  if rating < 3:\n",
    "    return \"negative\"\n",
    "  return \"neutral\""
   ]
  },
  {
   "cell_type": "code",
   "execution_count": 8,
   "metadata": {
    "id": "Xj4GbN7qu-67"
   },
   "outputs": [],
   "source": [
    "## apply function on dataset\n",
    "data['Sentiment'] = data['Rating'].apply(create_sentiment)"
   ]
  },
  {
   "cell_type": "code",
   "execution_count": 9,
   "metadata": {
    "colab": {
     "base_uri": "https://localhost:8080/"
    },
    "id": "5eh4lCZBvGm0",
    "outputId": "d8a0e5a9-f7ee-4993-f32d-f56bd686e33f"
   },
   "outputs": [
    {
     "data": {
      "text/plain": [
       "positive    15093\n",
       "negative     3214\n",
       "neutral      2184\n",
       "Name: Sentiment, dtype: int64"
      ]
     },
     "execution_count": 9,
     "metadata": {},
     "output_type": "execute_result"
    }
   ],
   "source": [
    "data['Sentiment'].value_counts()"
   ]
  },
  {
   "cell_type": "markdown",
   "metadata": {
    "id": "V1EL-mgvvVg4"
   },
   "source": [
    "We will create a Pie Chart with Sentiment values"
   ]
  },
  {
   "cell_type": "code",
   "execution_count": 10,
   "metadata": {
    "colab": {
     "base_uri": "https://localhost:8080/",
     "height": 248
    },
    "id": "Tp4pqENPvIk8",
    "outputId": "0e14fa18-e6b1-4e3e-aaae-093c84896e26"
   },
   "outputs": [
    {
     "data": {
      "image/png": "[encoded data removed]",
      "text/plain": [
       "<Figure size 432x288 with 1 Axes>"
      ]
     },
     "metadata": {},
     "output_type": "display_data"
    }
   ],
   "source": [
    "#define Seaborn color palette to use\n",
    "colors = sns.color_palette('pastel')[0:5]\n",
    "#create pie chart\n",
    "plt.pie(data['Sentiment'].value_counts(), labels=data['Sentiment'].unique().tolist(), colors = colors, autopct='%.0f%%')\n",
    "plt.show()"
   ]
  },
  {
   "cell_type": "markdown",
   "metadata": {
    "id": "IwhnkEApv1XT"
   },
   "source": [
    "# Length and Word Count"
   ]
  },
  {
   "cell_type": "code",
   "execution_count": 11,
   "metadata": {
    "id": "Ib2lpU2Vv2SK"
   },
   "outputs": [],
   "source": [
    "## create function to count words in review\n",
    "def get_word_count(review):\n",
    "  return len(review.split())\n",
    "\n",
    "## apply function to dataset\n",
    "data[\"Word Count\"] = data[\"Review\"].apply(get_word_count)"
   ]
  },
  {
   "cell_type": "code",
   "execution_count": 12,
   "metadata": {
    "id": "M4etompOwNK6"
   },
   "outputs": [],
   "source": [
    "## length of reviews\n",
    "data[\"Len Review\"] = data[\"Review\"].apply(lambda row: len(row))"
   ]
  },
  {
   "cell_type": "code",
   "execution_count": 13,
   "metadata": {
    "colab": {
     "base_uri": "https://localhost:8080/",
     "height": 112
    },
    "id": "vwSYk_uswjrm",
    "outputId": "17d8ddcc-f681-46f8-cb1b-e298d9fb4c16"
   },
   "outputs": [
    {
     "data": {
      "text/html": [
       "\n",
       "  <div id=\"df-a07ecd97-07b2-48fe-b902-a3796cae6f44\">\n",
       "    <div class=\"colab-df-container\">\n",
       "      <div>\n",
       "<style scoped>\n",
       "    .dataframe tbody tr th:only-of-type {\n",
       "        vertical-align: middle;\n",
       "    }\n",
       "\n",
       "    .dataframe tbody tr th {\n",
       "        vertical-align: top;\n",
       "    }\n",
       "\n",
       "    .dataframe thead th {\n",
       "        text-align: right;\n",
       "    }\n",
       "</style>\n",
       "<table border=\"1\" class=\"dataframe\">\n",
       "  <thead>\n",
       "    <tr style=\"text-align: right;\">\n",
       "      <th></th>\n",
       "      <th>count</th>\n",
       "      <th>mean</th>\n",
       "      <th>std</th>\n",
       "      <th>min</th>\n",
       "      <th>25%</th>\n",
       "      <th>50%</th>\n",
       "      <th>75%</th>\n",
       "      <th>max</th>\n",
       "    </tr>\n",
       "  </thead>\n",
       "  <tbody>\n",
       "    <tr>\n",
       "      <th>Word Count</th>\n",
       "      <td>20491.0</td>\n",
       "      <td>104.375824</td>\n",
       "      <td>100.656586</td>\n",
       "      <td>7.0</td>\n",
       "      <td>48.0</td>\n",
       "      <td>77.0</td>\n",
       "      <td>124.0</td>\n",
       "      <td>1931.0</td>\n",
       "    </tr>\n",
       "    <tr>\n",
       "      <th>Len Review</th>\n",
       "      <td>20491.0</td>\n",
       "      <td>724.896833</td>\n",
       "      <td>689.101024</td>\n",
       "      <td>44.0</td>\n",
       "      <td>339.0</td>\n",
       "      <td>537.0</td>\n",
       "      <td>859.0</td>\n",
       "      <td>13501.0</td>\n",
       "    </tr>\n",
       "  </tbody>\n",
       "</table>\n",
       "</div>\n",
       "      <button class=\"colab-df-convert\" onclick=\"convertToInteractive('df-a07ecd97-07b2-48fe-b902-a3796cae6f44')\"\n",
       "              title=\"Convert this dataframe to an interactive table.\"\n",
       "              style=\"display:none;\">\n",
       "        \n",
       "  <svg xmlns=\"http://www.w3.org/2000/svg\" height=\"24px\"viewBox=\"0 0 24 24\"\n",
       "       width=\"24px\">\n",
       "    <path d=\"M0 0h24v24H0V0z\" fill=\"none\"/>\n",
       "    <path d=\"M18.56 5.44l.94 2.06.94-2.06 2.06-.94-2.06-.94-.94-2.06-.94 2.06-2.06.94zm-11 1L8.5 8.5l.94-2.06 2.06-.94-2.06-.94L8.5 2.5l-.94 2.06-2.06.94zm10 10l.94 2.06.94-2.06 2.06-.94-2.06-.94-.94-2.06-.94 2.06-2.06.94z\"/><path d=\"M17.41 7.96l-1.37-1.37c-.4-.4-.92-.59-1.43-.59-.52 0-1.04.2-1.43.59L10.3 9.45l-7.72 7.72c-.78.78-.78 2.05 0 2.83L4 21.41c.39.39.9.59 1.41.59.51 0 1.02-.2 1.41-.59l7.78-7.78 2.81-2.81c.8-.78.8-2.07 0-2.86zM5.41 20L4 18.59l7.72-7.72 1.47 1.35L5.41 20z\"/>\n",
       "  </svg>\n",
       "      </button>\n",
       "      \n",
       "  <style>\n",
       "    .colab-df-container {\n",
       "      display:flex;\n",
       "      flex-wrap:wrap;\n",
       "      gap: 12px;\n",
       "    }\n",
       "\n",
       "    .colab-df-convert {\n",
       "      background-color: #E8F0FE;\n",
       "      border: none;\n",
       "      border-radius: 50%;\n",
       "      cursor: pointer;\n",
       "      display: none;\n",
       "      fill: #1967D2;\n",
       "      height: 32px;\n",
       "      padding: 0 0 0 0;\n",
       "      width: 32px;\n",
       "    }\n",
       "\n",
       "    .colab-df-convert:hover {\n",
       "      background-color: #E2EBFA;\n",
       "      box-shadow: 0px 1px 2px rgba(60, 64, 67, 0.3), 0px 1px 3px 1px rgba(60, 64, 67, 0.15);\n",
       "      fill: #174EA6;\n",
       "    }\n",
       "\n",
       "    [theme=dark] .colab-df-convert {\n",
       "      background-color: #3B4455;\n",
       "      fill: #D2E3FC;\n",
       "    }\n",
       "\n",
       "    [theme=dark] .colab-df-convert:hover {\n",
       "      background-color: #434B5C;\n",
       "      box-shadow: 0px 1px 3px 1px rgba(0, 0, 0, 0.15);\n",
       "      filter: drop-shadow(0px 1px 2px rgba(0, 0, 0, 0.3));\n",
       "      fill: #FFFFFF;\n",
       "    }\n",
       "  </style>\n",
       "\n",
       "      <script>\n",
       "        const buttonEl =\n",
       "          document.querySelector('#df-a07ecd97-07b2-48fe-b902-a3796cae6f44 button.colab-df-convert');\n",
       "        buttonEl.style.display =\n",
       "          google.colab.kernel.accessAllowed ? 'block' : 'none';\n",
       "\n",
       "        async function convertToInteractive(key) {\n",
       "          const element = document.querySelector('#df-a07ecd97-07b2-48fe-b902-a3796cae6f44');\n",
       "          const dataTable =\n",
       "            await google.colab.kernel.invokeFunction('convertToInteractive',\n",
       "                                                     [key], {});\n",
       "          if (!dataTable) return;\n",
       "\n",
       "          const docLinkHtml = 'Like what you see? Visit the ' +\n",
       "            '<a target=\"_blank\" href=https://colab.research.google.com/notebooks/data_table.ipynb>data table notebook</a>'\n",
       "            + ' to learn more about interactive tables.';\n",
       "          element.innerHTML = '';\n",
       "          dataTable['output_type'] = 'display_data';\n",
       "          await google.colab.output.renderOutput(dataTable, element);\n",
       "          const docLink = document.createElement('div');\n",
       "          docLink.innerHTML = docLinkHtml;\n",
       "          element.appendChild(docLink);\n",
       "        }\n",
       "      </script>\n",
       "    </div>\n",
       "  </div>\n",
       "  "
      ],
      "text/plain": [
       "              count        mean         std   min    25%    50%    75%  \\\n",
       "Word Count  20491.0  104.375824  100.656586   7.0   48.0   77.0  124.0   \n",
       "Len Review  20491.0  724.896833  689.101024  44.0  339.0  537.0  859.0   \n",
       "\n",
       "                max  \n",
       "Word Count   1931.0  \n",
       "Len Review  13501.0  "
      ]
     },
     "execution_count": 13,
     "metadata": {},
     "output_type": "execute_result"
    }
   ],
   "source": [
    "## statistics about reviews\n",
    "data[[\"Word Count\", \"Len Review\"]].describe().T"
   ]
  },
  {
   "cell_type": "markdown",
   "metadata": {
    "id": "L5sVA4AJw-2a"
   },
   "source": [
    "Now we will explore stats difference between positive, negative and neutral reviews"
   ]
  },
  {
   "cell_type": "code",
   "execution_count": 14,
   "metadata": {
    "id": "Yq_xYcIixFmc"
   },
   "outputs": [],
   "source": [
    "## word count for sentiment\n",
    "word_count_avg_positive = data[data[\"Sentiment\"]==\"positive\"][\"Word Count\"].mean()\n",
    "word_count_avg_neutral = data[data[\"Sentiment\"]==\"neutral\"][\"Word Count\"].mean()\n",
    "word_count_avg_negative = data[data[\"Sentiment\"]==\"negative\"][\"Word Count\"].mean()"
   ]
  },
  {
   "cell_type": "code",
   "execution_count": 15,
   "metadata": {
    "colab": {
     "base_uri": "https://localhost:8080/",
     "height": 265
    },
    "id": "Xu3fpnaCxfJs",
    "outputId": "499c53dc-473a-49b3-ec71-ef6cb8b96de3"
   },
   "outputs": [
    {
     "data": {
      "image/png": "[encoded data removed]",
      "text/plain": [
       "<Figure size 432x288 with 1 Axes>"
      ]
     },
     "metadata": {
      "needs_background": "light"
     },
     "output_type": "display_data"
    }
   ],
   "source": [
    "## create barplot with word of reviews for sentiment\n",
    "data_word_count_avg = dict(zip([\"positive\",\"neutral\",\"negative\"], [word_count_avg_positive,word_count_avg_neutral,word_count_avg_negative]))\n",
    "sns.barplot(x=list(data_word_count_avg.values()), y=list(data_word_count_avg.keys()))\n",
    "plt.show()"
   ]
  },
  {
   "cell_type": "code",
   "execution_count": 16,
   "metadata": {
    "colab": {
     "base_uri": "https://localhost:8080/",
     "height": 265
    },
    "id": "oqXMplJiyTWp",
    "outputId": "c3417966-eace-44fd-d4d1-695b08eea49f"
   },
   "outputs": [
    {
     "data": {
      "image/png": "[encoded data removed]",
      "text/plain": [
       "<Figure size 432x288 with 1 Axes>"
      ]
     },
     "metadata": {
      "needs_background": "light"
     },
     "output_type": "display_data"
    }
   ],
   "source": [
    "## length review for sentiment\n",
    "len_review_avg_positive = data[data[\"Sentiment\"]==\"positive\"][\"Len Review\"].mean()\n",
    "len_review_avg_neutral = data[data[\"Sentiment\"]==\"neutral\"][\"Len Review\"].mean()\n",
    "len_review_avg_negative = data[data[\"Sentiment\"]==\"negative\"][\"Len Review\"].mean()\n",
    "\n",
    "## create barplot with length of reviews for sentiment\n",
    "data_len_review_avg = dict(zip([\"positive\",\"neutral\",\"negative\"], [len_review_avg_positive,len_review_avg_neutral,len_review_avg_negative]))\n",
    "sns.barplot(x=list(data_len_review_avg.values()), y=list(data_len_review_avg.keys()))\n",
    "plt.show()"
   ]
  },
  {
   "cell_type": "markdown",
   "metadata": {
    "id": "iYNWft3RzNxJ"
   },
   "source": [
    "# Frequency Words"
   ]
  },
  {
   "cell_type": "code",
   "execution_count": 17,
   "metadata": {
    "id": "TzTpW0dUzV5m"
   },
   "outputs": [],
   "source": [
    "## create a function to clean text\n",
    "## lowercase, remove punctutations, remove stopword\n",
    "\n",
    "def clean_text(review):\n",
    "    sw = stopwords.words('english')\n",
    "    review = review.lower()\n",
    "  review = re.sub('[^a-z A-Z 0-9-]+', '', review)\n",
    "  review = \" \".join([word for word in review.split() if word not in sw])\n",
    "  return review\n",
    "\n",
    "data[\"Clean Review\"] = data[\"Review\"].apply(clean_text)"
   ]
  },
  {
   "cell_type": "code",
   "execution_count": 18,
   "metadata": {
    "colab": {
     "base_uri": "https://localhost:8080/",
     "height": 70
    },
    "id": "veHAYiaJ0A71",
    "outputId": "e5662fbc-3718-4661-effe-6af87eac9093"
   },
   "outputs": [
    {
     "data": {
      "application/vnd.google.colaboratory.intrinsic+json": {
       "type": "string"
      },
      "text/plain": [
       "'nice hotel expensive parking got good deal stay hotel anniversary arrived late evening took advice previous reviews valet parking check quick easy little disappointed non-existent view room room clean nice size bed comfortable woke stiff neck high pillows soundproof like heard music room night morning loud bangs doors opening closing hear people talking hallway maybe noisy neighbors aveda bath products nice goldfish stay nice touch taken advantage staying longer location great walking distance shopping overall nice experience pay 40 parking night'"
      ]
     },
     "execution_count": 18,
     "metadata": {},
     "output_type": "execute_result"
    }
   ],
   "source": [
    "## shape of review after cleaning phase\n",
    "data[\"Clean Review\"][0]"
   ]
  },
  {
   "cell_type": "code",
   "execution_count": 19,
   "metadata": {
    "id": "cbyA2se30eHe"
   },
   "outputs": [],
   "source": [
    "## create corpus: aggregate all reviews together\n",
    "corpus = \" \".join(data[\"Review\"].tolist())"
   ]
  },
  {
   "cell_type": "code",
   "execution_count": 20,
   "metadata": {
    "colab": {
     "base_uri": "https://localhost:8080/",
     "height": 122
    },
    "id": "sSAm8UdF26LX",
    "outputId": "cb04241e-48f1-4963-b1a0-bb5586ad93d7"
   },
   "outputs": [
    {
     "data": {
      "application/vnd.google.colaboratory.intrinsic+json": {
       "type": "string"
      },
      "text/plain": [
       "'nice hotel expensive parking got good deal stay hotel anniversary, arrived late evening took advice previous reviews did valet parking, check quick easy, little disappointed non-existent view room room clean nice size, bed comfortable woke stiff neck high pillows, not soundproof like heard music room night morning loud bangs doors opening closing hear people talking hallway, maybe just noisy neighbors, aveda bath products nice, did not goldfish stay nice touch taken advantage staying longer, location great walking distance shopping, overall nice experience having pay 40 parking night,   ok nothing special charge diamond member hilton decided chain shot 20th anniversary seattle, start booked suite paid extra website description not, suite bedroom bathroom standard hotel room, took printed reservation desk showed said things like tv couch ect desk clerk told oh mixed suites description kimpton website sorry free breakfast, got kidding, embassy suits sitting room bathroom bedroom unlike k'"
      ]
     },
     "execution_count": 20,
     "metadata": {},
     "output_type": "execute_result"
    }
   ],
   "source": [
    "## first characters of corpus\n",
    "corpus[:1000]"
   ]
  },
  {
   "cell_type": "code",
   "execution_count": 21,
   "metadata": {
    "colab": {
     "base_uri": "https://localhost:8080/"
    },
    "id": "5QA4fypj27A3",
    "outputId": "1fca07bd-eb55-48fc-ea9d-48208ca07139"
   },
   "outputs": [
    {
     "data": {
      "text/plain": [
       "[('hotel', 42079),\n",
       " ('not', 30750),\n",
       " ('room', 30532),\n",
       " ('great', 18732),\n",
       " (\"n't\", 18436),\n",
       " ('staff', 14950),\n",
       " ('good', 14791),\n",
       " ('did', 13433),\n",
       " ('just', 12458),\n",
       " ('stay', 11376),\n",
       " ('no', 11360),\n",
       " ('rooms', 10935),\n",
       " ('nice', 10918),\n",
       " ('stayed', 10022),\n",
       " ('location', 9515),\n",
       " ('service', 8549),\n",
       " ('breakfast', 8407),\n",
       " ('beach', 8218),\n",
       " ('food', 8026),\n",
       " ('like', 7677)]"
      ]
     },
     "execution_count": 21,
     "metadata": {},
     "output_type": "execute_result"
    }
   ],
   "source": [
    "## 20 most common words in all reviews\n",
    "most_common_words = Counter(corpus.split()).most_common(20)\n",
    "most_common_words"
   ]
  },
  {
   "cell_type": "code",
   "execution_count": 22,
   "metadata": {
    "colab": {
     "base_uri": "https://localhost:8080/",
     "height": 483
    },
    "id": "c72HlUSEIr62",
    "outputId": "ab3b0388-4901-4da8-958d-1b5458ed292c"
   },
   "outputs": [
    {
     "data": {
      "image/png": "[encoded data removed]",
      "text/plain": [
       "<Figure size 1080x576 with 1 Axes>"
      ]
     },
     "metadata": {
      "needs_background": "light"
     },
     "output_type": "display_data"
    }
   ],
   "source": [
    "## create barchart with words and freqs\n",
    "words = []\n",
    "freq = []\n",
    "for word, count in most_common_words:\n",
    "    words.append(word)\n",
    "    freq.append(count)\n",
    "\n",
    "plt.figure(figsize=(15, 8))\n",
    "sns.barplot(x=freq, y=words)\n",
    "plt.show()"
   ]
  },
  {
   "cell_type": "code",
   "execution_count": 23,
   "metadata": {
    "id": "2Bu1XpAkJJ2A"
   },
   "outputs": [],
   "source": [
    "def create_most_common_by_sentiment(data,sentiment,n_word):\n",
    "    tmp_data = data[data[\"Sentiment\"]==sentiment]\n",
    "    tmp_corpus = \" \".join(tmp_data[\"Review\"].tolist())\n",
    "    most_common_words_by_sentiment = Counter(tmp_corpus.split()).most_common(n_word)\n",
    "    words = []\n",
    "    freq = []\n",
    "    for word, count in most_common_words_by_sentiment:\n",
    "        words.append(word)\n",
    "        freq.append(count)\n",
    "    return most_common_words_by_sentiment, words, freq"
   ]
  },
  {
   "cell_type": "code",
   "execution_count": 24,
   "metadata": {
    "colab": {
     "base_uri": "https://localhost:8080/"
    },
    "id": "8fg5bUqZJ-Bu",
    "outputId": "d41d7103-ffee-4adc-e2cd-64da50620edd"
   },
   "outputs": [
    {
     "data": {
      "text/plain": [
       "[('hotel', 30969),\n",
       " ('room', 20095),\n",
       " ('not', 17415),\n",
       " ('great', 16165),\n",
       " (\"n't\", 12056),\n",
       " ('staff', 11488),\n",
       " ('good', 10795),\n",
       " ('just', 8969),\n",
       " ('did', 8519),\n",
       " ('stay', 8278),\n",
       " ('nice', 8163),\n",
       " ('rooms', 7578),\n",
       " ('stayed', 7550),\n",
       " ('location', 7494),\n",
       " ('breakfast', 6564),\n",
       " ('no', 6283),\n",
       " ('clean', 5998),\n",
       " ('beach', 5857),\n",
       " ('service', 5844),\n",
       " ('really', 5598)]"
      ]
     },
     "execution_count": 24,
     "metadata": {},
     "output_type": "execute_result"
    }
   ],
   "source": [
    "most_common_words_by_sentiment_positive, words_positive, freq_positive = create_most_common_by_sentiment(data,\"positive\",20)\n",
    "most_common_words_by_sentiment_positive"
   ]
  },
  {
   "cell_type": "code",
   "execution_count": 25,
   "metadata": {
    "colab": {
     "base_uri": "https://localhost:8080/",
     "height": 483
    },
    "id": "ace44KcAKz4D",
    "outputId": "3963ee9e-d377-4f69-894d-08c666765045"
   },
   "outputs": [
    {
     "data": {
      "image/png": "[encoded data removed]",
      "text/plain": [
       "<Figure size 1080x576 with 1 Axes>"
      ]
     },
     "metadata": {
      "needs_background": "light"
     },
     "output_type": "display_data"
    }
   ],
   "source": [
    "plt.figure(figsize=(15, 8))\n",
    "sns.barplot(x=freq_positive, y=words_positive)\n",
    "plt.show()"
   ]
  },
  {
   "cell_type": "code",
   "execution_count": 26,
   "metadata": {
    "colab": {
     "base_uri": "https://localhost:8080/"
    },
    "id": "XdTEkp6wK5sC",
    "outputId": "e6de2bfd-b1a7-45d8-e60a-ce13e48b8527"
   },
   "outputs": [
    {
     "data": {
      "text/plain": [
       "[('not', 4629),\n",
       " ('hotel', 4467),\n",
       " ('room', 3937),\n",
       " (\"n't\", 2508),\n",
       " ('good', 2167),\n",
       " ('did', 1873),\n",
       " ('no', 1610),\n",
       " ('great', 1536),\n",
       " ('nice', 1524),\n",
       " ('just', 1450),\n",
       " ('staff', 1371),\n",
       " ('rooms', 1361),\n",
       " ('location', 1217),\n",
       " ('stay', 1099),\n",
       " ('beach', 1078),\n",
       " ('like', 1070),\n",
       " ('stayed', 1061),\n",
       " ('food', 1040),\n",
       " ('service', 970),\n",
       " ('night', 969)]"
      ]
     },
     "execution_count": 26,
     "metadata": {},
     "output_type": "execute_result"
    }
   ],
   "source": [
    "most_common_words_by_sentiment_neutral, words_neutral, freq_neutral = create_most_common_by_sentiment(data,\"neutral\",20)\n",
    "most_common_words_by_sentiment_neutral"
   ]
  },
  {
   "cell_type": "code",
   "execution_count": 27,
   "metadata": {
    "colab": {
     "base_uri": "https://localhost:8080/",
     "height": 483
    },
    "id": "av7srewQK_tL",
    "outputId": "add2c79c-1500-442b-c455-bd581c8e9582"
   },
   "outputs": [
    {
     "data": {
      "image/png": "[encoded data removed]",
      "text/plain": [
       "<Figure size 1080x576 with 1 Axes>"
      ]
     },
     "metadata": {
      "needs_background": "light"
     },
     "output_type": "display_data"
    }
   ],
   "source": [
    "plt.figure(figsize=(15, 8))\n",
    "sns.barplot(x=freq_neutral, y=words_neutral)\n",
    "plt.show()"
   ]
  },
  {
   "cell_type": "code",
   "execution_count": 28,
   "metadata": {
    "colab": {
     "base_uri": "https://localhost:8080/"
    },
    "id": "UA6JnSNCLDG8",
    "outputId": "a1aa4def-9356-4385-a1e9-90b85665aa49"
   },
   "outputs": [
    {
     "data": {
      "text/plain": [
       "[('not', 8706),\n",
       " ('hotel', 6643),\n",
       " ('room', 6500),\n",
       " (\"n't\", 3872),\n",
       " ('no', 3467),\n",
       " ('did', 3041),\n",
       " ('staff', 2091),\n",
       " ('just', 2039),\n",
       " ('stay', 1999),\n",
       " ('rooms', 1996),\n",
       " ('good', 1829),\n",
       " ('service', 1735),\n",
       " ('like', 1635),\n",
       " ('night', 1613),\n",
       " ('day', 1567),\n",
       " ('food', 1493),\n",
       " ('time', 1433),\n",
       " ('got', 1427),\n",
       " ('stayed', 1411),\n",
       " ('told', 1361)]"
      ]
     },
     "execution_count": 28,
     "metadata": {},
     "output_type": "execute_result"
    }
   ],
   "source": [
    "most_common_words_by_sentiment_negative, words_negative, freq_negative = create_most_common_by_sentiment(data,\"negative\",20)\n",
    "most_common_words_by_sentiment_negative"
   ]
  },
  {
   "cell_type": "code",
   "execution_count": 29,
   "metadata": {
    "colab": {
     "base_uri": "https://localhost:8080/",
     "height": 483
    },
    "id": "TN5jIJGJLJu9",
    "outputId": "3003cb14-ccd5-461e-f6e6-ed01d9771e0f"
   },
   "outputs": [
    {
     "data": {
      "image/png": "[encoded data removed]",
      "text/plain": [
       "<Figure size 1080x576 with 1 Axes>"
      ]
     },
     "metadata": {
      "needs_background": "light"
     },
     "output_type": "display_data"
    }
   ],
   "source": [
    "plt.figure(figsize=(15, 8))\n",
    "sns.barplot(x=freq_neutral, y=words_neutral)\n",
    "plt.show()"
   ]
  },
  {
   "cell_type": "markdown",
   "metadata": {
    "id": "Dgm7umJbLnc-"
   },
   "source": [
    "# Most Frequently occuring Bigrams\n",
    "Bigram is a sequence of two words like \"really nice\" or \"all bad\""
   ]
  },
  {
   "cell_type": "code",
   "execution_count": 30,
   "metadata": {
    "id": "M8fcUK2qL1jZ"
   },
   "outputs": [],
   "source": [
    "## create bigram with CountVectorizer by sentiment\n",
    "\n",
    "cv = CountVectorizer(ngram_range=(2,2),min_df=5) ## Eliminating words that appeared in less than 5 documents:\n",
    "\n",
    "def create_bigrams_by_sentiment(data,sentiment,cv):\n",
    "    tmp_data = data[data[\"Sentiment\"]==sentiment]\n",
    "    tmp_bigrams = cv.fit_transform(tmp_data[\"Review\"])\n",
    "    count_values_sentiment = tmp_bigrams.toarray().sum(axis=0)\n",
    "    df_bigrams_sentiment = pd.DataFrame(sorted([(count_values_sentiment[i], k) for k, i in cv.vocabulary_.items()], reverse = True), columns=[\"frequency\", \"bigrams\"])\n",
    "    return df_bigrams_sentiment"
   ]
  },
  {
   "cell_type": "code",
   "execution_count": 30,
   "metadata": {
    "id": "8xmrIqqePNaO"
   },
   "outputs": [],
   "source": [
    "create_bigrams_by_sentiment(data,\"positive\",cv)"
   ]
  }
 ],
 "metadata": {
  "colab": {
   "provenance": []
  },
  "kernelspec": {
   "display_name": "Python 3 (ipykernel)",
   "language": "python",
   "name": "python3"
  },
  "language_info": {
   "codemirror_mode": {
    "name": "ipython",
    "version": 3
   },
   "file_extension": ".py",
   "mimetype": "text/x-python",
   "name": "python",
   "nbconvert_exporter": "python",
   "pygments_lexer": "ipython3",
   "version": "3.10.8"
  }
 },
 "nbformat": 4,
 "nbformat_minor": 1
}
